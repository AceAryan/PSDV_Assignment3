{
 "cells": [
  {
   "cell_type": "markdown",
   "metadata": {},
   "source": [
    "Heading here"
   ]
  },
  {
   "cell_type": "code",
   "execution_count": 6,
   "metadata": {},
   "outputs": [
    {
     "name": "stdout",
     "output_type": "stream",
     "text": [
      "Collecting pymc\n",
      "  Using cached pymc-5.20.1-py3-none-any.whl.metadata (15 kB)\n",
      "Collecting arviz>=0.13.0 (from pymc)\n",
      "  Using cached arviz-0.20.0-py3-none-any.whl.metadata (8.8 kB)\n",
      "Collecting cachetools>=4.2.1 (from pymc)\n",
      "  Using cached cachetools-5.5.2-py3-none-any.whl.metadata (5.4 kB)\n",
      "Collecting cloudpickle (from pymc)\n",
      "  Using cached cloudpickle-3.1.1-py3-none-any.whl.metadata (7.1 kB)\n",
      "Requirement already satisfied: numpy>=1.25.0 in c:\\users\\lenovo\\appdata\\local\\programs\\python\\python313\\lib\\site-packages (from pymc) (2.2.1)\n",
      "Requirement already satisfied: pandas>=0.24.0 in c:\\users\\lenovo\\appdata\\local\\programs\\python\\python313\\lib\\site-packages (from pymc) (2.2.3)\n",
      "INFO: pip is looking at multiple versions of pymc to determine which version is compatible with other requirements. This could take a while.\n",
      "Collecting pymc\n",
      "  Using cached pymc-5.20.0-py3-none-any.whl.metadata (15 kB)\n",
      "  Using cached pymc-5.19.1-py3-none-any.whl.metadata (15 kB)\n",
      "  Using cached pymc-5.19.0-py3-none-any.whl.metadata (15 kB)\n",
      "  Using cached pymc-5.18.2-py3-none-any.whl.metadata (15 kB)\n",
      "  Using cached pymc-5.18.1-py3-none-any.whl.metadata (15 kB)\n",
      "  Using cached pymc-5.18.0-py3-none-any.whl.metadata (15 kB)\n",
      "  Using cached pymc-5.17.0-py3-none-any.whl.metadata (15 kB)\n",
      "INFO: pip is still looking at multiple versions of pymc to determine which version is compatible with other requirements. This could take a while.\n",
      "  Using cached pymc-5.16.2-py3-none-any.whl.metadata (15 kB)\n",
      "  Using cached pymc-5.16.1-py3-none-any.whl.metadata (15 kB)\n",
      "  Using cached pymc-5.16.0-py3-none-any.whl.metadata (15 kB)\n",
      "  Using cached pymc-5.15.1-py3-none-any.whl.metadata (10 kB)\n",
      "  Using cached pymc-5.15.0-py3-none-any.whl.metadata (10 kB)\n",
      "INFO: This is taking longer than usual. You might need to provide the dependency resolver with stricter constraints to reduce runtime. See https://pip.pypa.io/warnings/backtracking for guidance. If you want to abort this run, press Ctrl + C.\n",
      "  Using cached pymc-5.14.0-py3-none-any.whl.metadata (10 kB)\n",
      "  Using cached pymc-5.13.1-py3-none-any.whl.metadata (10 kB)\n",
      "  Using cached pymc-5.13.0-py3-none-any.whl.metadata (10 kB)\n",
      "  Using cached pymc-5.12.0-py3-none-any.whl.metadata (10 kB)\n",
      "Collecting fastprogress>=0.2.0 (from pymc)\n",
      "  Using cached fastprogress-1.0.3-py3-none-any.whl.metadata (5.6 kB)\n",
      "Collecting pymc\n",
      "  Using cached pymc-5.11.0-py3-none-any.whl.metadata (10 kB)\n",
      "  Using cached pymc-5.10.4-py3-none-any.whl.metadata (10 kB)\n",
      "  Using cached pymc-5.10.3-py3-none-any.whl.metadata (10 kB)\n",
      "  Using cached pymc-5.10.2-py3-none-any.whl.metadata (10 kB)\n",
      "  Using cached pymc-5.10.1-py3-none-any.whl.metadata (10 kB)\n",
      "  Using cached pymc-5.10.0-py3-none-any.whl.metadata (10 kB)\n",
      "  Using cached pymc-5.9.2-py3-none-any.whl.metadata (10 kB)\n",
      "Collecting pytensor<2.18,>=2.17.0 (from pymc)\n",
      "  Using cached pytensor-2.17.1.tar.gz (3.5 MB)\n",
      "  Installing build dependencies: started\n",
      "  Installing build dependencies: finished with status 'error'\n",
      "Note: you may need to restart the kernel to use updated packages.\n"
     ]
    },
    {
     "name": "stderr",
     "output_type": "stream",
     "text": [
      "  error: subprocess-exited-with-error\n",
      "  \n",
      "  × pip subprocess to install build dependencies did not run successfully.\n",
      "  │ exit code: 1\n",
      "  ╰─> [57 lines of output]\n",
      "      Collecting setuptools>=48.0.0\n",
      "        Using cached setuptools-75.8.0-py3-none-any.whl.metadata (6.7 kB)\n",
      "      Collecting cython\n",
      "        Using cached Cython-3.0.12-cp313-cp313-win_amd64.whl.metadata (3.6 kB)\n",
      "      Collecting numpy<1.26,>=1.17.0\n",
      "        Using cached numpy-1.25.2.tar.gz (10.8 MB)\n",
      "        Installing build dependencies: started\n",
      "        Installing build dependencies: finished with status 'done'\n",
      "        Getting requirements to build wheel: started\n",
      "        Getting requirements to build wheel: finished with status 'error'\n",
      "        error: subprocess-exited-with-error\n",
      "      \n",
      "        Ã— Getting requirements to build wheel did not run successfully.\n",
      "        â”‚ exit code: 1\n",
      "        â•°â”€> [32 lines of output]\n",
      "            Traceback (most recent call last):\n",
      "              File \"C:\\Users\\Lenovo\\AppData\\Local\\Programs\\Python\\Python313\\Lib\\site-packages\\pip\\_vendor\\pyproject_hooks\\_in_process\\_in_process.py\", line 389, in <module>\n",
      "                main()\n",
      "                ~~~~^^\n",
      "              File \"C:\\Users\\Lenovo\\AppData\\Local\\Programs\\Python\\Python313\\Lib\\site-packages\\pip\\_vendor\\pyproject_hooks\\_in_process\\_in_process.py\", line 373, in main\n",
      "                json_out[\"return_val\"] = hook(**hook_input[\"kwargs\"])\n",
      "                                         ~~~~^^^^^^^^^^^^^^^^^^^^^^^^\n",
      "              File \"C:\\Users\\Lenovo\\AppData\\Local\\Programs\\Python\\Python313\\Lib\\site-packages\\pip\\_vendor\\pyproject_hooks\\_in_process\\_in_process.py\", line 137, in get_requires_for_build_wheel\n",
      "                backend = _build_backend()\n",
      "              File \"C:\\Users\\Lenovo\\AppData\\Local\\Programs\\Python\\Python313\\Lib\\site-packages\\pip\\_vendor\\pyproject_hooks\\_in_process\\_in_process.py\", line 70, in _build_backend\n",
      "                obj = import_module(mod_path)\n",
      "              File \"c:\\Users\\Lenovo\\AppData\\Local\\Programs\\Python\\Python313\\Lib\\importlib\\__init__.py\", line 88, in import_module\n",
      "                return _bootstrap._gcd_import(name[level:], package, level)\n",
      "                       ~~~~~~~~~~~~~~~~~~~~~~^^^^^^^^^^^^^^^^^^^^^^^^^^^^^^\n",
      "              File \"<frozen importlib._bootstrap>\", line 1387, in _gcd_import\n",
      "              File \"<frozen importlib._bootstrap>\", line 1360, in _find_and_load\n",
      "              File \"<frozen importlib._bootstrap>\", line 1310, in _find_and_load_unlocked\n",
      "              File \"<frozen importlib._bootstrap>\", line 488, in _call_with_frames_removed\n",
      "              File \"<frozen importlib._bootstrap>\", line 1387, in _gcd_import\n",
      "              File \"<frozen importlib._bootstrap>\", line 1360, in _find_and_load\n",
      "              File \"<frozen importlib._bootstrap>\", line 1331, in _find_and_load_unlocked\n",
      "              File \"<frozen importlib._bootstrap>\", line 935, in _load_unlocked\n",
      "              File \"<frozen importlib._bootstrap_external>\", line 1026, in exec_module\n",
      "              File \"<frozen importlib._bootstrap>\", line 488, in _call_with_frames_removed\n",
      "              File \"C:\\Users\\Lenovo\\AppData\\Local\\Temp\\pip-build-env-yfaic3re\\overlay\\Lib\\site-packages\\setuptools\\__init__.py\", line 16, in <module>\n",
      "                import setuptools.version\n",
      "              File \"C:\\Users\\Lenovo\\AppData\\Local\\Temp\\pip-build-env-yfaic3re\\overlay\\Lib\\site-packages\\setuptools\\version.py\", line 1, in <module>\n",
      "                import pkg_resources\n",
      "              File \"C:\\Users\\Lenovo\\AppData\\Local\\Temp\\pip-build-env-yfaic3re\\overlay\\Lib\\site-packages\\pkg_resources\\__init__.py\", line 2172, in <module>\n",
      "                register_finder(pkgutil.ImpImporter, find_on_path)\n",
      "                                ^^^^^^^^^^^^^^^^^^^\n",
      "            AttributeError: module 'pkgutil' has no attribute 'ImpImporter'. Did you mean: 'zipimporter'?\n",
      "            [end of output]\n",
      "      \n",
      "        note: This error originates from a subprocess, and is likely not a problem with pip.\n",
      "      error: subprocess-exited-with-error\n",
      "      \n",
      "      Ã— Getting requirements to build wheel did not run successfully.\n",
      "      â”‚ exit code: 1\n",
      "      â•°â”€> See above for output.\n",
      "      \n",
      "      note: This error originates from a subprocess, and is likely not a problem with pip.\n",
      "      [end of output]\n",
      "  \n",
      "  note: This error originates from a subprocess, and is likely not a problem with pip.\n",
      "error: subprocess-exited-with-error\n",
      "\n",
      "× pip subprocess to install build dependencies did not run successfully.\n",
      "│ exit code: 1\n",
      "╰─> See above for output.\n",
      "\n",
      "note: This error originates from a subprocess, and is likely not a problem with pip.\n"
     ]
    }
   ],
   "source": [
    "pip install pymc"
   ]
  },
  {
   "cell_type": "code",
   "execution_count": 5,
   "metadata": {},
   "outputs": [
    {
     "ename": "ModuleNotFoundError",
     "evalue": "No module named 'pymc'",
     "output_type": "error",
     "traceback": [
      "\u001b[1;31m---------------------------------------------------------------------------\u001b[0m",
      "\u001b[1;31mModuleNotFoundError\u001b[0m                       Traceback (most recent call last)",
      "Cell \u001b[1;32mIn[5], line 1\u001b[0m\n\u001b[1;32m----> 1\u001b[0m \u001b[38;5;28;01mimport\u001b[39;00m \u001b[38;5;21;01mpymc\u001b[39;00m \u001b[38;5;28;01mas\u001b[39;00m \u001b[38;5;21;01mpm\u001b[39;00m\n",
      "\u001b[1;31mModuleNotFoundError\u001b[0m: No module named 'pymc'"
     ]
    }
   ],
   "source": [
    "import pymc as pm"
   ]
  },
  {
   "cell_type": "code",
   "execution_count": null,
   "metadata": {},
   "outputs": [],
   "source": []
  }
 ],
 "metadata": {
  "kernelspec": {
   "display_name": "Python 3",
   "language": "python",
   "name": "python3"
  },
  "language_info": {
   "codemirror_mode": {
    "name": "ipython",
    "version": 3
   },
   "file_extension": ".py",
   "mimetype": "text/x-python",
   "name": "python",
   "nbconvert_exporter": "python",
   "pygments_lexer": "ipython3",
   "version": "3.13.1"
  }
 },
 "nbformat": 4,
 "nbformat_minor": 2
}
